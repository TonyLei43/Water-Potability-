{
 "cells": [
  {
   "cell_type": "markdown",
   "metadata": {},
   "source": [
    "### This Notebook Performs the necessary Preprocessing, EDA and fits the Neural Network and K-Nearest Neighbors models!"
   ]
  },
  {
   "cell_type": "code",
   "execution_count": 43,
   "metadata": {},
   "outputs": [],
   "source": [
    "# Import necessary libraries\n",
    "import pandas as pd  # Pandas library for data manipulation and analysis\n",
    "import numpy as np  # Numpy library for numerical operations\n",
    "import seaborn as sns  # Seaborn library for data visualization\n",
    "import matplotlib.pyplot as plt  # Matplotlib library for plotting data\n",
    "from sklearn.model_selection import train_test_split  # Train-test split for data splitting\n",
    "from sklearn.neighbors import KNeighborsClassifier  # K-Nearest Neighbors classifier\n",
    "import torch  # PyTorch library for deep learning\n",
    "import torch.nn as nn  # PyTorch modules for defining neural networks\n",
    "import torch.optim as optim  # PyTorch optimizers for training neural networks\n",
    "from torch.utils.data import DataLoader, TensorDataset  # PyTorch data loaders for handling datasets\n",
    "from sklearn.model_selection import train_test_split  # Train-test split for data splitting\n",
    "from sklearn import datasets  # Scikit-learn datasets\n",
    "from sklearn.metrics import accuracy_score  # Accuracy score for model evaluation\n",
    "from sklearn.metrics import roc_auc_score  # ROC-AUC score for model evaluation\n",
    "from sklearn.preprocessing import StandardScaler  # StandardScaler for data preprocessing\n",
    "from sklearn.decomposition import PCA  # Principal Component Analysis for dimensionality reduction\n",
    "import plotly  # Plotly library for interactive visualizations\n",
    "import plotly.offline as pyo  # Plotly offline mode for generating HTML visualizations\n",
    "import plotly.express as px  # Plotly Express for creating visualizations easily\n",
    "import missingno as msno  # Missingno library for visualizing missing data\n",
    "from sklearn.model_selection import GridSearchCV  # GridSearchCV for hyperparameter tuning\n",
    "from sklearn.metrics import confusion_matrix\n",
    "from sklearn.metrics import precision_score\n",
    "from sklearn.metrics import recall_score\n",
    "from sklearn.metrics import f1_score\n"
   ]
  },
  {
   "cell_type": "code",
   "execution_count": 44,
   "metadata": {},
   "outputs": [],
   "source": [
    "#Load the data and also the necessary colors\n",
    "df=pd.read_csv(\"water_potability.csv\")\n",
    "y=df.Potability\n",
    "colors_green = ['#01411C','#4B6F44','#4F7942','#74C365','#D0F0C0']"
   ]
  },
  {
   "cell_type": "code",
   "execution_count": 45,
   "metadata": {},
   "outputs": [
    {
     "data": {
      "text/html": [
       "<style type=\"text/css\">\n",
       "#T_482ca_row0_col0, #T_482ca_row0_col1, #T_482ca_row0_col3, #T_482ca_row0_col4, #T_482ca_row0_col5, #T_482ca_row0_col6, #T_482ca_row0_col7, #T_482ca_row0_col8, #T_482ca_row0_col9, #T_482ca_row7_col2 {\n",
       "  background-color: #08306b;\n",
       "  color: #f1f1f1;\n",
       "}\n",
       "#T_482ca_row0_col2, #T_482ca_row1_col1, #T_482ca_row4_col1, #T_482ca_row5_col1 {\n",
       "  background-color: #eef5fc;\n",
       "  color: #000000;\n",
       "}\n",
       "#T_482ca_row1_col0, #T_482ca_row1_col3, #T_482ca_row1_col6, #T_482ca_row1_col8, #T_482ca_row1_col9, #T_482ca_row2_col0, #T_482ca_row2_col1, #T_482ca_row2_col3, #T_482ca_row2_col4, #T_482ca_row2_col5, #T_482ca_row2_col6, #T_482ca_row2_col8, #T_482ca_row2_col9, #T_482ca_row3_col0, #T_482ca_row3_col2, #T_482ca_row3_col3, #T_482ca_row3_col6, #T_482ca_row3_col7, #T_482ca_row3_col8, #T_482ca_row3_col9, #T_482ca_row4_col0, #T_482ca_row4_col3, #T_482ca_row4_col6, #T_482ca_row4_col8, #T_482ca_row4_col9, #T_482ca_row5_col0, #T_482ca_row5_col3, #T_482ca_row5_col6, #T_482ca_row5_col8, #T_482ca_row5_col9, #T_482ca_row6_col0, #T_482ca_row6_col3, #T_482ca_row6_col8, #T_482ca_row6_col9, #T_482ca_row7_col3, #T_482ca_row7_col8, #T_482ca_row7_col9 {\n",
       "  background-color: #f7fbff;\n",
       "  color: #000000;\n",
       "}\n",
       "#T_482ca_row1_col2 {\n",
       "  background-color: #a4cce3;\n",
       "  color: #000000;\n",
       "}\n",
       "#T_482ca_row1_col4, #T_482ca_row5_col4 {\n",
       "  background-color: #dfecf7;\n",
       "  color: #000000;\n",
       "}\n",
       "#T_482ca_row1_col5, #T_482ca_row4_col4, #T_482ca_row5_col5 {\n",
       "  background-color: #e2edf8;\n",
       "  color: #000000;\n",
       "}\n",
       "#T_482ca_row1_col7, #T_482ca_row5_col7 {\n",
       "  background-color: #f3f8fe;\n",
       "  color: #000000;\n",
       "}\n",
       "#T_482ca_row2_col2 {\n",
       "  background-color: #dce9f6;\n",
       "  color: #000000;\n",
       "}\n",
       "#T_482ca_row2_col7, #T_482ca_row3_col1, #T_482ca_row6_col6, #T_482ca_row7_col0 {\n",
       "  background-color: #f6faff;\n",
       "  color: #000000;\n",
       "}\n",
       "#T_482ca_row3_col4 {\n",
       "  background-color: #f0f6fd;\n",
       "  color: #000000;\n",
       "}\n",
       "#T_482ca_row3_col5 {\n",
       "  background-color: #f1f7fd;\n",
       "  color: #000000;\n",
       "}\n",
       "#T_482ca_row4_col2 {\n",
       "  background-color: #c6dbef;\n",
       "  color: #000000;\n",
       "}\n",
       "#T_482ca_row4_col5, #T_482ca_row7_col1 {\n",
       "  background-color: #e6f0f9;\n",
       "  color: #000000;\n",
       "}\n",
       "#T_482ca_row4_col7 {\n",
       "  background-color: #f4f9fe;\n",
       "  color: #000000;\n",
       "}\n",
       "#T_482ca_row5_col2 {\n",
       "  background-color: #aacfe5;\n",
       "  color: #000000;\n",
       "}\n",
       "#T_482ca_row6_col1 {\n",
       "  background-color: #ecf4fb;\n",
       "  color: #000000;\n",
       "}\n",
       "#T_482ca_row6_col2 {\n",
       "  background-color: #82bbdb;\n",
       "  color: #000000;\n",
       "}\n",
       "#T_482ca_row6_col4 {\n",
       "  background-color: #ddeaf7;\n",
       "  color: #000000;\n",
       "}\n",
       "#T_482ca_row6_col5 {\n",
       "  background-color: #deebf7;\n",
       "  color: #000000;\n",
       "}\n",
       "#T_482ca_row6_col7 {\n",
       "  background-color: #f2f8fd;\n",
       "  color: #000000;\n",
       "}\n",
       "#T_482ca_row7_col4 {\n",
       "  background-color: #d4e4f4;\n",
       "  color: #000000;\n",
       "}\n",
       "#T_482ca_row7_col5 {\n",
       "  background-color: #cee0f2;\n",
       "  color: #000000;\n",
       "}\n",
       "#T_482ca_row7_col6 {\n",
       "  background-color: #f5fafe;\n",
       "  color: #000000;\n",
       "}\n",
       "#T_482ca_row7_col7 {\n",
       "  background-color: #eff6fc;\n",
       "  color: #000000;\n",
       "}\n",
       "</style>\n",
       "<table id=\"T_482ca\">\n",
       "  <thead>\n",
       "    <tr>\n",
       "      <th class=\"blank level0\" >&nbsp;</th>\n",
       "      <th id=\"T_482ca_level0_col0\" class=\"col_heading level0 col0\" >ph</th>\n",
       "      <th id=\"T_482ca_level0_col1\" class=\"col_heading level0 col1\" >Hardness</th>\n",
       "      <th id=\"T_482ca_level0_col2\" class=\"col_heading level0 col2\" >Solids</th>\n",
       "      <th id=\"T_482ca_level0_col3\" class=\"col_heading level0 col3\" >Chloramines</th>\n",
       "      <th id=\"T_482ca_level0_col4\" class=\"col_heading level0 col4\" >Sulfate</th>\n",
       "      <th id=\"T_482ca_level0_col5\" class=\"col_heading level0 col5\" >Conductivity</th>\n",
       "      <th id=\"T_482ca_level0_col6\" class=\"col_heading level0 col6\" >Organic_carbon</th>\n",
       "      <th id=\"T_482ca_level0_col7\" class=\"col_heading level0 col7\" >Trihalomethanes</th>\n",
       "      <th id=\"T_482ca_level0_col8\" class=\"col_heading level0 col8\" >Turbidity</th>\n",
       "      <th id=\"T_482ca_level0_col9\" class=\"col_heading level0 col9\" >Potability</th>\n",
       "    </tr>\n",
       "  </thead>\n",
       "  <tbody>\n",
       "    <tr>\n",
       "      <th id=\"T_482ca_level0_row0\" class=\"row_heading level0 row0\" >count</th>\n",
       "      <td id=\"T_482ca_row0_col0\" class=\"data row0 col0\" >2785.000000</td>\n",
       "      <td id=\"T_482ca_row0_col1\" class=\"data row0 col1\" >3276.000000</td>\n",
       "      <td id=\"T_482ca_row0_col2\" class=\"data row0 col2\" >3276.000000</td>\n",
       "      <td id=\"T_482ca_row0_col3\" class=\"data row0 col3\" >3276.000000</td>\n",
       "      <td id=\"T_482ca_row0_col4\" class=\"data row0 col4\" >2495.000000</td>\n",
       "      <td id=\"T_482ca_row0_col5\" class=\"data row0 col5\" >3276.000000</td>\n",
       "      <td id=\"T_482ca_row0_col6\" class=\"data row0 col6\" >3276.000000</td>\n",
       "      <td id=\"T_482ca_row0_col7\" class=\"data row0 col7\" >3114.000000</td>\n",
       "      <td id=\"T_482ca_row0_col8\" class=\"data row0 col8\" >3276.000000</td>\n",
       "      <td id=\"T_482ca_row0_col9\" class=\"data row0 col9\" >3276.000000</td>\n",
       "    </tr>\n",
       "    <tr>\n",
       "      <th id=\"T_482ca_level0_row1\" class=\"row_heading level0 row1\" >mean</th>\n",
       "      <td id=\"T_482ca_row1_col0\" class=\"data row1 col0\" >7.080795</td>\n",
       "      <td id=\"T_482ca_row1_col1\" class=\"data row1 col1\" >196.369496</td>\n",
       "      <td id=\"T_482ca_row1_col2\" class=\"data row1 col2\" >22014.092526</td>\n",
       "      <td id=\"T_482ca_row1_col3\" class=\"data row1 col3\" >7.122277</td>\n",
       "      <td id=\"T_482ca_row1_col4\" class=\"data row1 col4\" >333.775777</td>\n",
       "      <td id=\"T_482ca_row1_col5\" class=\"data row1 col5\" >426.205111</td>\n",
       "      <td id=\"T_482ca_row1_col6\" class=\"data row1 col6\" >14.284970</td>\n",
       "      <td id=\"T_482ca_row1_col7\" class=\"data row1 col7\" >66.396293</td>\n",
       "      <td id=\"T_482ca_row1_col8\" class=\"data row1 col8\" >3.966786</td>\n",
       "      <td id=\"T_482ca_row1_col9\" class=\"data row1 col9\" >0.390110</td>\n",
       "    </tr>\n",
       "    <tr>\n",
       "      <th id=\"T_482ca_level0_row2\" class=\"row_heading level0 row2\" >std</th>\n",
       "      <td id=\"T_482ca_row2_col0\" class=\"data row2 col0\" >1.594320</td>\n",
       "      <td id=\"T_482ca_row2_col1\" class=\"data row2 col1\" >32.879761</td>\n",
       "      <td id=\"T_482ca_row2_col2\" class=\"data row2 col2\" >8768.570828</td>\n",
       "      <td id=\"T_482ca_row2_col3\" class=\"data row2 col3\" >1.583085</td>\n",
       "      <td id=\"T_482ca_row2_col4\" class=\"data row2 col4\" >41.416840</td>\n",
       "      <td id=\"T_482ca_row2_col5\" class=\"data row2 col5\" >80.824064</td>\n",
       "      <td id=\"T_482ca_row2_col6\" class=\"data row2 col6\" >3.308162</td>\n",
       "      <td id=\"T_482ca_row2_col7\" class=\"data row2 col7\" >16.175008</td>\n",
       "      <td id=\"T_482ca_row2_col8\" class=\"data row2 col8\" >0.780382</td>\n",
       "      <td id=\"T_482ca_row2_col9\" class=\"data row2 col9\" >0.487849</td>\n",
       "    </tr>\n",
       "    <tr>\n",
       "      <th id=\"T_482ca_level0_row3\" class=\"row_heading level0 row3\" >min</th>\n",
       "      <td id=\"T_482ca_row3_col0\" class=\"data row3 col0\" >0.000000</td>\n",
       "      <td id=\"T_482ca_row3_col1\" class=\"data row3 col1\" >47.432000</td>\n",
       "      <td id=\"T_482ca_row3_col2\" class=\"data row3 col2\" >320.942611</td>\n",
       "      <td id=\"T_482ca_row3_col3\" class=\"data row3 col3\" >0.352000</td>\n",
       "      <td id=\"T_482ca_row3_col4\" class=\"data row3 col4\" >129.000000</td>\n",
       "      <td id=\"T_482ca_row3_col5\" class=\"data row3 col5\" >181.483754</td>\n",
       "      <td id=\"T_482ca_row3_col6\" class=\"data row3 col6\" >2.200000</td>\n",
       "      <td id=\"T_482ca_row3_col7\" class=\"data row3 col7\" >0.738000</td>\n",
       "      <td id=\"T_482ca_row3_col8\" class=\"data row3 col8\" >1.450000</td>\n",
       "      <td id=\"T_482ca_row3_col9\" class=\"data row3 col9\" >0.000000</td>\n",
       "    </tr>\n",
       "    <tr>\n",
       "      <th id=\"T_482ca_level0_row4\" class=\"row_heading level0 row4\" >25%</th>\n",
       "      <td id=\"T_482ca_row4_col0\" class=\"data row4 col0\" >6.093092</td>\n",
       "      <td id=\"T_482ca_row4_col1\" class=\"data row4 col1\" >176.850538</td>\n",
       "      <td id=\"T_482ca_row4_col2\" class=\"data row4 col2\" >15666.690297</td>\n",
       "      <td id=\"T_482ca_row4_col3\" class=\"data row4 col3\" >6.127421</td>\n",
       "      <td id=\"T_482ca_row4_col4\" class=\"data row4 col4\" >307.699498</td>\n",
       "      <td id=\"T_482ca_row4_col5\" class=\"data row4 col5\" >365.734414</td>\n",
       "      <td id=\"T_482ca_row4_col6\" class=\"data row4 col6\" >12.065801</td>\n",
       "      <td id=\"T_482ca_row4_col7\" class=\"data row4 col7\" >55.844536</td>\n",
       "      <td id=\"T_482ca_row4_col8\" class=\"data row4 col8\" >3.439711</td>\n",
       "      <td id=\"T_482ca_row4_col9\" class=\"data row4 col9\" >0.000000</td>\n",
       "    </tr>\n",
       "    <tr>\n",
       "      <th id=\"T_482ca_level0_row5\" class=\"row_heading level0 row5\" >50%</th>\n",
       "      <td id=\"T_482ca_row5_col0\" class=\"data row5 col0\" >7.036752</td>\n",
       "      <td id=\"T_482ca_row5_col1\" class=\"data row5 col1\" >196.967627</td>\n",
       "      <td id=\"T_482ca_row5_col2\" class=\"data row5 col2\" >20927.833607</td>\n",
       "      <td id=\"T_482ca_row5_col3\" class=\"data row5 col3\" >7.130299</td>\n",
       "      <td id=\"T_482ca_row5_col4\" class=\"data row5 col4\" >333.073546</td>\n",
       "      <td id=\"T_482ca_row5_col5\" class=\"data row5 col5\" >421.884968</td>\n",
       "      <td id=\"T_482ca_row5_col6\" class=\"data row5 col6\" >14.218338</td>\n",
       "      <td id=\"T_482ca_row5_col7\" class=\"data row5 col7\" >66.622485</td>\n",
       "      <td id=\"T_482ca_row5_col8\" class=\"data row5 col8\" >3.955028</td>\n",
       "      <td id=\"T_482ca_row5_col9\" class=\"data row5 col9\" >0.000000</td>\n",
       "    </tr>\n",
       "    <tr>\n",
       "      <th id=\"T_482ca_level0_row6\" class=\"row_heading level0 row6\" >75%</th>\n",
       "      <td id=\"T_482ca_row6_col0\" class=\"data row6 col0\" >8.062066</td>\n",
       "      <td id=\"T_482ca_row6_col1\" class=\"data row6 col1\" >216.667456</td>\n",
       "      <td id=\"T_482ca_row6_col2\" class=\"data row6 col2\" >27332.762127</td>\n",
       "      <td id=\"T_482ca_row6_col3\" class=\"data row6 col3\" >8.114887</td>\n",
       "      <td id=\"T_482ca_row6_col4\" class=\"data row6 col4\" >359.950170</td>\n",
       "      <td id=\"T_482ca_row6_col5\" class=\"data row6 col5\" >481.792304</td>\n",
       "      <td id=\"T_482ca_row6_col6\" class=\"data row6 col6\" >16.557652</td>\n",
       "      <td id=\"T_482ca_row6_col7\" class=\"data row6 col7\" >77.337473</td>\n",
       "      <td id=\"T_482ca_row6_col8\" class=\"data row6 col8\" >4.500320</td>\n",
       "      <td id=\"T_482ca_row6_col9\" class=\"data row6 col9\" >1.000000</td>\n",
       "    </tr>\n",
       "    <tr>\n",
       "      <th id=\"T_482ca_level0_row7\" class=\"row_heading level0 row7\" >max</th>\n",
       "      <td id=\"T_482ca_row7_col0\" class=\"data row7 col0\" >14.000000</td>\n",
       "      <td id=\"T_482ca_row7_col1\" class=\"data row7 col1\" >323.124000</td>\n",
       "      <td id=\"T_482ca_row7_col2\" class=\"data row7 col2\" >61227.196008</td>\n",
       "      <td id=\"T_482ca_row7_col3\" class=\"data row7 col3\" >13.127000</td>\n",
       "      <td id=\"T_482ca_row7_col4\" class=\"data row7 col4\" >481.030642</td>\n",
       "      <td id=\"T_482ca_row7_col5\" class=\"data row7 col5\" >753.342620</td>\n",
       "      <td id=\"T_482ca_row7_col6\" class=\"data row7 col6\" >28.300000</td>\n",
       "      <td id=\"T_482ca_row7_col7\" class=\"data row7 col7\" >124.000000</td>\n",
       "      <td id=\"T_482ca_row7_col8\" class=\"data row7 col8\" >6.739000</td>\n",
       "      <td id=\"T_482ca_row7_col9\" class=\"data row7 col9\" >1.000000</td>\n",
       "    </tr>\n",
       "  </tbody>\n",
       "</table>\n"
      ],
      "text/plain": [
       "<pandas.io.formats.style.Styler at 0x299cd6410>"
      ]
     },
     "execution_count": 45,
     "metadata": {},
     "output_type": "execute_result"
    }
   ],
   "source": [
    "# Visualizing the Data\n",
    "df.describe().style.background_gradient(cmap = \"Blues\")"
   ]
  },
  {
   "cell_type": "markdown",
   "metadata": {},
   "source": [
    "### Examining the classification and checking for Imbalance"
   ]
  },
  {
   "cell_type": "code",
   "execution_count": 46,
   "metadata": {},
   "outputs": [
    {
     "data": {
      "application/vnd.plotly.v1+json": {
       "config": {
        "plotlyServerURL": "https://plot.ly"
       },
       "data": [
        {
         "domain": {
          "x": [
           0,
           1
          ],
          "y": [
           0,
           1
          ]
         },
         "hole": 0.4,
         "hovertemplate": "label=%{label}<br>No. Of Samples=%{value}<extra></extra>",
         "labels": [
          "Not Potable",
          "Potable"
         ],
         "legendgroup": "",
         "name": "",
         "opacity": 0.6,
         "showlegend": true,
         "textinfo": "percent+label",
         "textposition": "outside",
         "type": "pie",
         "values": [
          1998,
          1278
         ]
        }
       ],
       "layout": {
        "annotations": [
         {
          "font": {
           "family": "monospace",
           "size": 14
          },
          "opacity": 0.7,
          "showarrow": false,
          "text": "Potability",
          "x": 0.5,
          "y": 0.5
         }
        ],
        "font": {
         "family": "monospace"
        },
        "hoverlabel": {
         "bgcolor": "white"
        },
        "legend": {
         "orientation": "h",
         "tracegroupgap": 0,
         "traceorder": "reversed",
         "x": 0.37,
         "y": -0.05
        },
        "margin": {
         "t": 60
        },
        "piecolorway": [
         "red",
         "#74C365"
        ],
        "template": {
         "data": {
          "bar": [
           {
            "error_x": {
             "color": "#2a3f5f"
            },
            "error_y": {
             "color": "#2a3f5f"
            },
            "marker": {
             "line": {
              "color": "#E5ECF6",
              "width": 0.5
             },
             "pattern": {
              "fillmode": "overlay",
              "size": 10,
              "solidity": 0.2
             }
            },
            "type": "bar"
           }
          ],
          "barpolar": [
           {
            "marker": {
             "line": {
              "color": "#E5ECF6",
              "width": 0.5
             },
             "pattern": {
              "fillmode": "overlay",
              "size": 10,
              "solidity": 0.2
             }
            },
            "type": "barpolar"
           }
          ],
          "carpet": [
           {
            "aaxis": {
             "endlinecolor": "#2a3f5f",
             "gridcolor": "white",
             "linecolor": "white",
             "minorgridcolor": "white",
             "startlinecolor": "#2a3f5f"
            },
            "baxis": {
             "endlinecolor": "#2a3f5f",
             "gridcolor": "white",
             "linecolor": "white",
             "minorgridcolor": "white",
             "startlinecolor": "#2a3f5f"
            },
            "type": "carpet"
           }
          ],
          "choropleth": [
           {
            "colorbar": {
             "outlinewidth": 0,
             "ticks": ""
            },
            "type": "choropleth"
           }
          ],
          "contour": [
           {
            "colorbar": {
             "outlinewidth": 0,
             "ticks": ""
            },
            "colorscale": [
             [
              0,
              "#0d0887"
             ],
             [
              0.1111111111111111,
              "#46039f"
             ],
             [
              0.2222222222222222,
              "#7201a8"
             ],
             [
              0.3333333333333333,
              "#9c179e"
             ],
             [
              0.4444444444444444,
              "#bd3786"
             ],
             [
              0.5555555555555556,
              "#d8576b"
             ],
             [
              0.6666666666666666,
              "#ed7953"
             ],
             [
              0.7777777777777778,
              "#fb9f3a"
             ],
             [
              0.8888888888888888,
              "#fdca26"
             ],
             [
              1,
              "#f0f921"
             ]
            ],
            "type": "contour"
           }
          ],
          "contourcarpet": [
           {
            "colorbar": {
             "outlinewidth": 0,
             "ticks": ""
            },
            "type": "contourcarpet"
           }
          ],
          "heatmap": [
           {
            "colorbar": {
             "outlinewidth": 0,
             "ticks": ""
            },
            "colorscale": [
             [
              0,
              "#0d0887"
             ],
             [
              0.1111111111111111,
              "#46039f"
             ],
             [
              0.2222222222222222,
              "#7201a8"
             ],
             [
              0.3333333333333333,
              "#9c179e"
             ],
             [
              0.4444444444444444,
              "#bd3786"
             ],
             [
              0.5555555555555556,
              "#d8576b"
             ],
             [
              0.6666666666666666,
              "#ed7953"
             ],
             [
              0.7777777777777778,
              "#fb9f3a"
             ],
             [
              0.8888888888888888,
              "#fdca26"
             ],
             [
              1,
              "#f0f921"
             ]
            ],
            "type": "heatmap"
           }
          ],
          "heatmapgl": [
           {
            "colorbar": {
             "outlinewidth": 0,
             "ticks": ""
            },
            "colorscale": [
             [
              0,
              "#0d0887"
             ],
             [
              0.1111111111111111,
              "#46039f"
             ],
             [
              0.2222222222222222,
              "#7201a8"
             ],
             [
              0.3333333333333333,
              "#9c179e"
             ],
             [
              0.4444444444444444,
              "#bd3786"
             ],
             [
              0.5555555555555556,
              "#d8576b"
             ],
             [
              0.6666666666666666,
              "#ed7953"
             ],
             [
              0.7777777777777778,
              "#fb9f3a"
             ],
             [
              0.8888888888888888,
              "#fdca26"
             ],
             [
              1,
              "#f0f921"
             ]
            ],
            "type": "heatmapgl"
           }
          ],
          "histogram": [
           {
            "marker": {
             "pattern": {
              "fillmode": "overlay",
              "size": 10,
              "solidity": 0.2
             }
            },
            "type": "histogram"
           }
          ],
          "histogram2d": [
           {
            "colorbar": {
             "outlinewidth": 0,
             "ticks": ""
            },
            "colorscale": [
             [
              0,
              "#0d0887"
             ],
             [
              0.1111111111111111,
              "#46039f"
             ],
             [
              0.2222222222222222,
              "#7201a8"
             ],
             [
              0.3333333333333333,
              "#9c179e"
             ],
             [
              0.4444444444444444,
              "#bd3786"
             ],
             [
              0.5555555555555556,
              "#d8576b"
             ],
             [
              0.6666666666666666,
              "#ed7953"
             ],
             [
              0.7777777777777778,
              "#fb9f3a"
             ],
             [
              0.8888888888888888,
              "#fdca26"
             ],
             [
              1,
              "#f0f921"
             ]
            ],
            "type": "histogram2d"
           }
          ],
          "histogram2dcontour": [
           {
            "colorbar": {
             "outlinewidth": 0,
             "ticks": ""
            },
            "colorscale": [
             [
              0,
              "#0d0887"
             ],
             [
              0.1111111111111111,
              "#46039f"
             ],
             [
              0.2222222222222222,
              "#7201a8"
             ],
             [
              0.3333333333333333,
              "#9c179e"
             ],
             [
              0.4444444444444444,
              "#bd3786"
             ],
             [
              0.5555555555555556,
              "#d8576b"
             ],
             [
              0.6666666666666666,
              "#ed7953"
             ],
             [
              0.7777777777777778,
              "#fb9f3a"
             ],
             [
              0.8888888888888888,
              "#fdca26"
             ],
             [
              1,
              "#f0f921"
             ]
            ],
            "type": "histogram2dcontour"
           }
          ],
          "mesh3d": [
           {
            "colorbar": {
             "outlinewidth": 0,
             "ticks": ""
            },
            "type": "mesh3d"
           }
          ],
          "parcoords": [
           {
            "line": {
             "colorbar": {
              "outlinewidth": 0,
              "ticks": ""
             }
            },
            "type": "parcoords"
           }
          ],
          "pie": [
           {
            "automargin": true,
            "type": "pie"
           }
          ],
          "scatter": [
           {
            "fillpattern": {
             "fillmode": "overlay",
             "size": 10,
             "solidity": 0.2
            },
            "type": "scatter"
           }
          ],
          "scatter3d": [
           {
            "line": {
             "colorbar": {
              "outlinewidth": 0,
              "ticks": ""
             }
            },
            "marker": {
             "colorbar": {
              "outlinewidth": 0,
              "ticks": ""
             }
            },
            "type": "scatter3d"
           }
          ],
          "scattercarpet": [
           {
            "marker": {
             "colorbar": {
              "outlinewidth": 0,
              "ticks": ""
             }
            },
            "type": "scattercarpet"
           }
          ],
          "scattergeo": [
           {
            "marker": {
             "colorbar": {
              "outlinewidth": 0,
              "ticks": ""
             }
            },
            "type": "scattergeo"
           }
          ],
          "scattergl": [
           {
            "marker": {
             "colorbar": {
              "outlinewidth": 0,
              "ticks": ""
             }
            },
            "type": "scattergl"
           }
          ],
          "scattermapbox": [
           {
            "marker": {
             "colorbar": {
              "outlinewidth": 0,
              "ticks": ""
             }
            },
            "type": "scattermapbox"
           }
          ],
          "scatterpolar": [
           {
            "marker": {
             "colorbar": {
              "outlinewidth": 0,
              "ticks": ""
             }
            },
            "type": "scatterpolar"
           }
          ],
          "scatterpolargl": [
           {
            "marker": {
             "colorbar": {
              "outlinewidth": 0,
              "ticks": ""
             }
            },
            "type": "scatterpolargl"
           }
          ],
          "scatterternary": [
           {
            "marker": {
             "colorbar": {
              "outlinewidth": 0,
              "ticks": ""
             }
            },
            "type": "scatterternary"
           }
          ],
          "surface": [
           {
            "colorbar": {
             "outlinewidth": 0,
             "ticks": ""
            },
            "colorscale": [
             [
              0,
              "#0d0887"
             ],
             [
              0.1111111111111111,
              "#46039f"
             ],
             [
              0.2222222222222222,
              "#7201a8"
             ],
             [
              0.3333333333333333,
              "#9c179e"
             ],
             [
              0.4444444444444444,
              "#bd3786"
             ],
             [
              0.5555555555555556,
              "#d8576b"
             ],
             [
              0.6666666666666666,
              "#ed7953"
             ],
             [
              0.7777777777777778,
              "#fb9f3a"
             ],
             [
              0.8888888888888888,
              "#fdca26"
             ],
             [
              1,
              "#f0f921"
             ]
            ],
            "type": "surface"
           }
          ],
          "table": [
           {
            "cells": {
             "fill": {
              "color": "#EBF0F8"
             },
             "line": {
              "color": "white"
             }
            },
            "header": {
             "fill": {
              "color": "#C8D4E3"
             },
             "line": {
              "color": "white"
             }
            },
            "type": "table"
           }
          ]
         },
         "layout": {
          "annotationdefaults": {
           "arrowcolor": "#2a3f5f",
           "arrowhead": 0,
           "arrowwidth": 1
          },
          "autotypenumbers": "strict",
          "coloraxis": {
           "colorbar": {
            "outlinewidth": 0,
            "ticks": ""
           }
          },
          "colorscale": {
           "diverging": [
            [
             0,
             "#8e0152"
            ],
            [
             0.1,
             "#c51b7d"
            ],
            [
             0.2,
             "#de77ae"
            ],
            [
             0.3,
             "#f1b6da"
            ],
            [
             0.4,
             "#fde0ef"
            ],
            [
             0.5,
             "#f7f7f7"
            ],
            [
             0.6,
             "#e6f5d0"
            ],
            [
             0.7,
             "#b8e186"
            ],
            [
             0.8,
             "#7fbc41"
            ],
            [
             0.9,
             "#4d9221"
            ],
            [
             1,
             "#276419"
            ]
           ],
           "sequential": [
            [
             0,
             "#0d0887"
            ],
            [
             0.1111111111111111,
             "#46039f"
            ],
            [
             0.2222222222222222,
             "#7201a8"
            ],
            [
             0.3333333333333333,
             "#9c179e"
            ],
            [
             0.4444444444444444,
             "#bd3786"
            ],
            [
             0.5555555555555556,
             "#d8576b"
            ],
            [
             0.6666666666666666,
             "#ed7953"
            ],
            [
             0.7777777777777778,
             "#fb9f3a"
            ],
            [
             0.8888888888888888,
             "#fdca26"
            ],
            [
             1,
             "#f0f921"
            ]
           ],
           "sequentialminus": [
            [
             0,
             "#0d0887"
            ],
            [
             0.1111111111111111,
             "#46039f"
            ],
            [
             0.2222222222222222,
             "#7201a8"
            ],
            [
             0.3333333333333333,
             "#9c179e"
            ],
            [
             0.4444444444444444,
             "#bd3786"
            ],
            [
             0.5555555555555556,
             "#d8576b"
            ],
            [
             0.6666666666666666,
             "#ed7953"
            ],
            [
             0.7777777777777778,
             "#fb9f3a"
            ],
            [
             0.8888888888888888,
             "#fdca26"
            ],
            [
             1,
             "#f0f921"
            ]
           ]
          },
          "colorway": [
           "#636efa",
           "#EF553B",
           "#00cc96",
           "#ab63fa",
           "#FFA15A",
           "#19d3f3",
           "#FF6692",
           "#B6E880",
           "#FF97FF",
           "#FECB52"
          ],
          "font": {
           "color": "#2a3f5f"
          },
          "geo": {
           "bgcolor": "white",
           "lakecolor": "white",
           "landcolor": "#E5ECF6",
           "showlakes": true,
           "showland": true,
           "subunitcolor": "white"
          },
          "hoverlabel": {
           "align": "left"
          },
          "hovermode": "closest",
          "mapbox": {
           "style": "light"
          },
          "paper_bgcolor": "white",
          "plot_bgcolor": "#E5ECF6",
          "polar": {
           "angularaxis": {
            "gridcolor": "white",
            "linecolor": "white",
            "ticks": ""
           },
           "bgcolor": "#E5ECF6",
           "radialaxis": {
            "gridcolor": "white",
            "linecolor": "white",
            "ticks": ""
           }
          },
          "scene": {
           "xaxis": {
            "backgroundcolor": "#E5ECF6",
            "gridcolor": "white",
            "gridwidth": 2,
            "linecolor": "white",
            "showbackground": true,
            "ticks": "",
            "zerolinecolor": "white"
           },
           "yaxis": {
            "backgroundcolor": "#E5ECF6",
            "gridcolor": "white",
            "gridwidth": 2,
            "linecolor": "white",
            "showbackground": true,
            "ticks": "",
            "zerolinecolor": "white"
           },
           "zaxis": {
            "backgroundcolor": "#E5ECF6",
            "gridcolor": "white",
            "gridwidth": 2,
            "linecolor": "white",
            "showbackground": true,
            "ticks": "",
            "zerolinecolor": "white"
           }
          },
          "shapedefaults": {
           "line": {
            "color": "#2a3f5f"
           }
          },
          "ternary": {
           "aaxis": {
            "gridcolor": "white",
            "linecolor": "white",
            "ticks": ""
           },
           "baxis": {
            "gridcolor": "white",
            "linecolor": "white",
            "ticks": ""
           },
           "bgcolor": "#E5ECF6",
           "caxis": {
            "gridcolor": "white",
            "linecolor": "white",
            "ticks": ""
           }
          },
          "title": {
           "x": 0.05
          },
          "xaxis": {
           "automargin": true,
           "gridcolor": "white",
           "linecolor": "white",
           "ticks": "",
           "title": {
            "standoff": 15
           },
           "zerolinecolor": "white",
           "zerolinewidth": 2
          },
          "yaxis": {
           "automargin": true,
           "gridcolor": "white",
           "linecolor": "white",
           "ticks": "",
           "title": {
            "standoff": 15
           },
           "zerolinecolor": "white",
           "zerolinewidth": 2
          }
         }
        },
        "title": {
         "font": {
          "color": "black",
          "size": 20
         },
         "text": "Potability of Water",
         "x": 0.47,
         "y": 0.98
        },
        "width": 600
       }
      }
     },
     "metadata": {},
     "output_type": "display_data"
    }
   ],
   "source": [
    "d= pd.DataFrame(df['Potability'].value_counts())\n",
    "# fig = px.pie(d,values='Potability',names=['Not Potable','Potable'],hole=0.4,opacity=0.6,\n",
    "#             color_discrete_sequence=[colors_green[3],colors_blue[3]],\n",
    "#              labels={'label':'Potability','Potability':'No. Of Samples'})\n",
    "fig = px.pie(d, values='count', names=['Not Potable', 'Potable'], hole=0.4, opacity=0.6,\n",
    "             color_discrete_sequence=['red',colors_green[3]],\n",
    "             labels={'label': 'Potability', 'count': 'No. Of Samples'})\n",
    "\n",
    "\n",
    "# fig.add_annotation(text='We can See that the data is imbalanced <br> and hence we need to balance it!',\n",
    "#                    x=1.2,y=0.9,showarrow=False,font_size=12,opacity=0.7,font_family='monospace')\n",
    "fig.add_annotation(text='Potability',\n",
    "                   x=0.5,y=0.5,showarrow=False,font_size=14,opacity=0.7,font_family='monospace')\n",
    "\n",
    "fig.update_layout(\n",
    "    font_family='monospace',\n",
    "    title=dict(text='Potability of Water',x=0.47,y=0.98,\n",
    "               font=dict(color='black',size=20)),\n",
    "    legend=dict(x=0.37,y=-0.05,orientation='h',traceorder='reversed'),\n",
    "    hoverlabel=dict(bgcolor='white'),\n",
    "    width=600\n",
    "    )\n",
    "\n",
    "fig.update_traces(textposition='outside', textinfo='percent+label')\n",
    "\n",
    "fig.show()"
   ]
  },
  {
   "cell_type": "markdown",
   "metadata": {},
   "source": [
    "### Checking for empty values"
   ]
  },
  {
   "cell_type": "code",
   "execution_count": 47,
   "metadata": {},
   "outputs": [
    {
     "data": {
      "image/png": "[encoded data removed]",
      "text/plain": [
       "<Figure size 2500x1000 with 2 Axes>"
      ]
     },
     "metadata": {},
     "output_type": "display_data"
    }
   ],
   "source": [
    "fig = msno.matrix(df,color=(0,0,0))"
   ]
  },
  {
   "cell_type": "code",
   "execution_count": 48,
   "metadata": {},
   "outputs": [
    {
     "data": {
      "image/png": "[encoded data removed]",
      "text/plain": [
       "<Figure size 1000x500 with 2 Axes>"
      ]
     },
     "metadata": {},
     "output_type": "display_data"
    }
   ],
   "source": [
    "# Checking for Correlations between the features and Target Variable\n",
    "plt.figure(figsize=(10, 5))\n",
    "\n",
    "# Define the mask to set the values in the upper triangle to True\n",
    "mask = np.triu(np.ones_like(df.corr(), dtype=bool))  # Replace np.bool with bool\n",
    "\n",
    "heatmap = sns.heatmap(df.corr(), mask=mask, vmin=-1, vmax=1, annot=True, cmap='viridis')\n",
    "heatmap.set_title('Triangle Correlation Heatmap', fontdict={'fontsize': 18}, pad=16)\n",
    "\n",
    "plt.show()\n"
   ]
  },
  {
   "cell_type": "markdown",
   "metadata": {},
   "source": [
    "From the Above Correlation Graph we see that there is very little correlation between any of the variables in our case"
   ]
  },
  {
   "cell_type": "code",
   "execution_count": 49,
   "metadata": {},
   "outputs": [
    {
     "data": {
      "text/plain": [
       "ph                 491\n",
       "Hardness             0\n",
       "Solids               0\n",
       "Chloramines          0\n",
       "Sulfate            781\n",
       "Conductivity         0\n",
       "Organic_carbon       0\n",
       "Trihalomethanes    162\n",
       "Turbidity            0\n",
       "Potability           0\n",
       "dtype: int64"
      ]
     },
     "execution_count": 49,
     "metadata": {},
     "output_type": "execute_result"
    }
   ],
   "source": [
    "#Counting the number of null values\n",
    "df.isna().sum()"
   ]
  },
  {
   "cell_type": "markdown",
   "metadata": {},
   "source": [
    "This shows us that ph, Sulfate, and Trihalomethanes have null cells which could lead to issues for our classification problem. Hence we must either fill in the gaps or drop these cells. Since the number of cells with empties are pretty high, we just fill them up with the median values. For Trihalomethanes there are not that many null values and so we just delete those."
   ]
  },
  {
   "cell_type": "code",
   "execution_count": 50,
   "metadata": {},
   "outputs": [
    {
     "data": {
      "text/plain": [
       "ph                 0\n",
       "Hardness           0\n",
       "Solids             0\n",
       "Chloramines        0\n",
       "Sulfate            0\n",
       "Conductivity       0\n",
       "Organic_carbon     0\n",
       "Trihalomethanes    0\n",
       "Turbidity          0\n",
       "Potability         0\n",
       "dtype: int64"
      ]
     },
     "execution_count": 50,
     "metadata": {},
     "output_type": "execute_result"
    }
   ],
   "source": [
    "df['ph'].fillna(value=df['ph'].median(),inplace=True)\n",
    "df['Sulfate'].fillna(value=df['Sulfate'].median(),inplace=True)\n",
    "# df.dropna(subset=['ph'], inplace=True)\n",
    "# df.dropna(subset=['Sulfate'], inplace=True)\n",
    "df.dropna(subset=['Trihalomethanes'], inplace=True)\n",
    "df.isna().sum()"
   ]
  },
  {
   "cell_type": "code",
   "execution_count": 51,
   "metadata": {},
   "outputs": [
    {
     "data": {
      "text/plain": [
       "Potability\n",
       "1    1891\n",
       "0    1891\n",
       "Name: count, dtype: int64"
      ]
     },
     "execution_count": 51,
     "metadata": {},
     "output_type": "execute_result"
    }
   ],
   "source": [
    "zero  = df[df['Potability']==0]   #zero values in Potability column\n",
    "one = df[df['Potability']==1]  # one values in Potability column\n",
    "from sklearn.utils import resample\n",
    "df_minority_upsampled = resample(one, replace = True, n_samples = 1891) \n",
    "#concatenate\n",
    "df= pd.concat([zero, df_minority_upsampled])\n",
    "from sklearn.utils import shuffle\n",
    "df = shuffle(df) # shuffling so that there is particular sequence\n",
    "df.Potability.value_counts()"
   ]
  },
  {
   "cell_type": "code",
   "execution_count": 52,
   "metadata": {},
   "outputs": [],
   "source": [
    "X = df.drop('Potability',axis=1).values\n",
    "y = df['Potability'].values\n"
   ]
  },
  {
   "cell_type": "code",
   "execution_count": 53,
   "metadata": {},
   "outputs": [],
   "source": [
    "#Using Standard Scaler to normalise our features to ensure better computation and faster convergence\n",
    "scale = StandardScaler()\n",
    "X_train,X_test,y_train,y_test=train_test_split(X,y,train_size=0.2,random_state=42)\n",
    "scaler = StandardScaler()\n",
    "X_train_scaled = scaler.fit_transform(X_train)\n",
    "X_test_scaled = scaler.transform(X_test)"
   ]
  },
  {
   "cell_type": "markdown",
   "metadata": {},
   "source": [
    "$\\textbf{Neural Networks}$"
   ]
  },
  {
   "cell_type": "code",
   "execution_count": 54,
   "metadata": {},
   "outputs": [
    {
     "name": "stdout",
     "output_type": "stream",
     "text": [
      "Test Accuracy: 50.37%\n"
     ]
    }
   ],
   "source": [
    "X_train_tensor = torch.FloatTensor(X_train_scaled)\n",
    "y_train_tensor = torch.LongTensor(y_train)\n",
    "X_test_tensor = torch.FloatTensor(X_test_scaled)\n",
    "y_test_tensor = torch.LongTensor(y_test)\n",
    "\n",
    "# Create DataLoader for training set\n",
    "train_dataset = TensorDataset(X_train_tensor, y_train_tensor)\n",
    "train_loader = DataLoader(train_dataset, batch_size=3000, shuffle=True)\n",
    "\n",
    "# Define the neural network model using torch.nn.Sequential\n",
    "model = nn.Sequential(\n",
    "    nn.Linear(9, 100),\n",
    "    nn.ReLU(),\n",
    "    nn.Dropout(0.5),  # Example of dropout for regularization\n",
    "    nn.Linear(100, 50),\n",
    "    nn.ReLU(),\n",
    "    nn.Dropout(0.5),\n",
    "    nn.Linear(50, 2),\n",
    "    nn.Sigmoid()  # Example of using sigmoid for binary classification\n",
    ")\n",
    "\n",
    "\n",
    "# Define the loss function and the optimizer\n",
    "criterion = nn.CrossEntropyLoss()\n",
    "optimizer = optim.SGD(model.parameters(), lr=0.0001)\n",
    "                    #   ,weight_decay=0.01)\n",
    "\n",
    "# Training loop\n",
    "num_epochs = 200\n",
    "for epoch in range(num_epochs):\n",
    "    model.train()\n",
    "    for batch_X, batch_y in train_loader:\n",
    "        # Flatten the input data\n",
    "        batch_X = batch_X.view(-1, 9)\n",
    "        \n",
    "        optimizer.zero_grad()\n",
    "        outputs = model(batch_X)\n",
    "        loss = criterion(outputs, batch_y)\n",
    "        # L2 regularization term\n",
    "        l2_reg = torch.tensor(0.)\n",
    "        for param in model.parameters():\n",
    "            l2_reg += torch.norm(param)\n",
    "        \n",
    "        # Add L2 regularization to the loss\n",
    "        loss += 0.01 * l2_reg  # You can adjust the regularization strength\n",
    "\n",
    "        loss.backward()\n",
    "        optimizer.step()\n",
    "\n",
    "model.eval()\n",
    "with torch.no_grad():\n",
    "    # Convert the test data to PyTorch tensor\n",
    "    X_test_tensor = X_test_tensor.view(-1,9)\n",
    "    \n",
    "    # Forward pass\n",
    "    outputs = model(X_test_tensor)\n",
    "    \n",
    "    # Get predicted labels\n",
    "    _, predicted = torch.max(outputs, 1)\n",
    "\n",
    "# Convert predictions to numpy array\n",
    "predicted_np = predicted.numpy()\n",
    "\n",
    "# Calculate and print the accuracy\n",
    "accuracy = roc_auc_score(y_test, predicted_np)\n",
    "print(f'Test Accuracy: {accuracy * 100:.2f}%')"
   ]
  },
  {
   "cell_type": "code",
   "execution_count": 55,
   "metadata": {},
   "outputs": [
    {
     "data": {
      "image/png": "[encoded data removed]",
      "text/plain": [
       "<Figure size 800x600 with 1 Axes>"
      ]
     },
     "metadata": {},
     "output_type": "display_data"
    },
    {
     "name": "stdout",
     "output_type": "stream",
     "text": [
      "Test ROC AUC: 50.37%\n"
     ]
    }
   ],
   "source": [
    "# Generate confusion matrix for Neural Network\n",
    "cm = confusion_matrix(y_test, predicted_np)\n",
    "\n",
    "plt.figure(figsize=(8, 6))\n",
    "sns.heatmap(cm, annot=True, fmt='d', cmap='Blues', cbar=False,\n",
    "            xticklabels=np.unique(y_test), yticklabels=np.unique(y_test))\n",
    "plt.title('Confusion Matrix For Neural Network')\n",
    "plt.xlabel('Predicted label')\n",
    "plt.ylabel('True label')\n",
    "plt.show()\n",
    "\n",
    "# Calculate and print the ROC AUC score\n",
    "roc_auc = roc_auc_score(y_test, predicted_np)\n",
    "print(f'Test ROC AUC: {roc_auc * 100:.2f}%')"
   ]
  },
  {
   "cell_type": "markdown",
   "metadata": {},
   "source": [
    "$\\textbf{K-Nearest Neighbors}$"
   ]
  },
  {
   "cell_type": "code",
   "execution_count": 56,
   "metadata": {},
   "outputs": [
    {
     "name": "stdout",
     "output_type": "stream",
     "text": [
      "Best hyperparameters: {'n_neighbors': 5, 'p': 2, 'weights': 'distance'}\n",
      "Test Accuracy with the best model: 0.6229345670852611\n",
      "Test Precision with the best model: 0.5995423340961098\n",
      "Test Recall with the best model: 0.5995423340961098\n",
      "Test F-1 Score with the best model: 0.6475131294408402\n",
      "Test ROC Score with the best model: 0.624197705751962\n"
     ]
    }
   ],
   "source": [
    "\n",
    "# Define the parameter grid for grid search\n",
    "param_grid = {\n",
    "    'n_neighbors': [3, 4, 5, 6, 7],  # You can adjust this range based on your preference\n",
    "    'weights': ['uniform', 'distance'],\n",
    "    'p': [1, 2]  # 1 for Manhattan distance, 2 for Euclidean distance\n",
    "}\n",
    "\n",
    "# Create KNeighborsClassifier model\n",
    "knn_model = KNeighborsClassifier()\n",
    "\n",
    "# Create GridSearchCV object for Cross Val\n",
    "grid_search = GridSearchCV(knn_model, param_grid, scoring='roc_auc', cv=5)\n",
    "grid_search.fit(X_train_scaled, y_train)\n",
    "\n",
    "# Get the best model\n",
    "best_knn_model = grid_search.best_estimator_\n",
    "\n",
    "# Evaluate on the test set\n",
    "test_acc = accuracy_score(y_test, best_knn_model.predict(X_test_scaled))\n",
    "test_precision=precision_score(y_test, best_knn_model.predict(X_test_scaled))\n",
    "test_recall=recall_score(y_test, best_knn_model.predict(X_test_scaled))\n",
    "f1_score=f1_score(y_test, best_knn_model.predict(X_test_scaled))\n",
    "roc_score=roc_auc_score(y_test, best_knn_model.predict(X_test_scaled))\n",
    "print(f\"Best hyperparameters: {grid_search.best_params_}\")\n",
    "print(f\"Test Accuracy with the best model: {test_acc}\")\n",
    "print(f\"Test Precision with the best model: {test_precision}\")\n",
    "print(f\"Test Recall with the best model: {test_precision}\")\n",
    "print(f\"Test F-1 Score with the best model: {f1_score}\")\n",
    "print(f\"Test ROC Score with the best model: {roc_score}\")"
   ]
  },
  {
   "cell_type": "code",
   "execution_count": 57,
   "metadata": {},
   "outputs": [
    {
     "data": {
      "image/png": "[encoded data removed]",
      "text/plain": [
       "<Figure size 800x600 with 1 Axes>"
      ]
     },
     "metadata": {},
     "output_type": "display_data"
    }
   ],
   "source": [
    "y_pred = best_knn_model.predict(X_test_scaled)\n",
    "\n",
    "# Generate confusion matrix for KNN model\n",
    "cm = confusion_matrix(y_test, y_pred)\n",
    "\n",
    "# Plot confusion matrix using seaborn heatmap\n",
    "plt.figure(figsize=(8, 6))\n",
    "sns.heatmap(cm, annot=True, fmt='d', cmap='Blues', cbar=False,\n",
    "            xticklabels=best_knn_model.classes_, yticklabels=best_knn_model.classes_)\n",
    "plt.title('Confusion Matrix For KNN')\n",
    "plt.xlabel('Predicted Label')\n",
    "plt.ylabel('Actual Label')\n",
    "plt.show()"
   ]
  },
  {
   "cell_type": "code",
   "execution_count": null,
   "metadata": {},
   "outputs": [],
   "source": []
  }
 ],
 "metadata": {
  "kernelspec": {
   "display_name": "base",
   "language": "python",
   "name": "python3"
  },
  "language_info": {
   "codemirror_mode": {
    "name": "ipython",
    "version": 3
   },
   "file_extension": ".py",
   "mimetype": "text/x-python",
   "name": "python",
   "nbconvert_exporter": "python",
   "pygments_lexer": "ipython3",
   "version": "3.11.5"
  }
 },
 "nbformat": 4,
 "nbformat_minor": 2
}
